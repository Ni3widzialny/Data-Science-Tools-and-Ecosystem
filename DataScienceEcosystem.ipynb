{
 "cells": [
  {
   "cell_type": "markdown",
   "id": "e423bd9b-7f1f-46da-8308-f9ef5bcb529b",
   "metadata": {},
   "source": [
    "# Data Science Tools and Ecosystem"
   ]
  },
  {
   "cell_type": "markdown",
   "id": "7cabafd0-4f22-495c-afdd-ef99a2ae9d33",
   "metadata": {},
   "source": [
    "W tym notatniku podsumowane są narzędzia i ekosystemy Data Science."
   ]
  },
  {
   "cell_type": "markdown",
   "id": "d9a5d49d-2cd9-4981-8439-7eda69f5fcb4",
   "metadata": {},
   "source": [
    "Cele:\n",
    "* Wymień popularne języki dla Data Science\n",
    "* Wymień powszechnie używane biblioteki przez Data Scientistów\n",
    "* Wymień narzędzia Data Science "
   ]
  },
  {
   "cell_type": "markdown",
   "id": "47a05d2a-17c2-4f5a-91ea-5869d3ac6f90",
   "metadata": {},
   "source": [
    "Niektóre z popularnych języków, które używają Data Scientists, to:"
   ]
  },
  {
   "cell_type": "markdown",
   "id": "0b32e187-06e8-43e3-9e35-c09e1c53a346",
   "metadata": {},
   "source": [
    "1. Python\n",
    "2. R\n",
    "3. SQL"
   ]
  },
  {
   "cell_type": "markdown",
   "id": "7fb295f4-4ce3-4193-a123-74eea2ebbce4",
   "metadata": {},
   "source": [
    "Niektóre z powszechnie używanych bibliotek przez Data Scientists to:"
   ]
  },
  {
   "cell_type": "markdown",
   "id": "4a18b811-19b5-47de-8cc7-791ef9f4c24e",
   "metadata": {},
   "source": [
    "1. pandas\n",
    "2. NumPy\n",
    "3. scikit-learn"
   ]
  },
  {
   "cell_type": "markdown",
   "id": "68d3b833-7266-4446-9e8f-34b7116ca698",
   "metadata": {},
   "source": [
    "| Narzędzia Data Science |\n",
    "| ------|\n",
    "| Jupyter Notebook |\n",
    "| RStudio |\n",
    "| Spyder |"
   ]
  },
  {
   "cell_type": "markdown",
   "id": "1fb60b63-0199-48e8-80f4-9f65e1d45f41",
   "metadata": {},
   "source": [
    "### Poniżej znajdują się przykłady oceny wyrażeń arytmetycznych w Pythonie"
   ]
  },
  {
   "cell_type": "markdown",
   "id": "228e7caf-bb57-48eb-acbd-7c2804cc5721",
   "metadata": {},
   "source": [
    "7+3\n",
    "10-3"
   ]
  },
  {
   "cell_type": "code",
   "execution_count": 2,
   "id": "ad0fbb38-55c0-4ccd-b312-9019f12b05c2",
   "metadata": {},
   "outputs": [
    {
     "data": {
      "text/plain": [
       "17"
      ]
     },
     "execution_count": 2,
     "metadata": {},
     "output_type": "execute_result"
    }
   ],
   "source": [
    "# To jest proste wyrażenie arytmetyczne do pomnożenia, a następnie dodania liczb całkowitych\n",
    "(3*4)+5"
   ]
  },
  {
   "cell_type": "code",
   "execution_count": 7,
   "id": "e7f0f135-c032-4ddf-a1e4-29409e972031",
   "metadata": {},
   "outputs": [
    {
     "data": {
      "text/plain": [
       "3.3333333333333335"
      ]
     },
     "execution_count": 7,
     "metadata": {},
     "output_type": "execute_result"
    }
   ],
   "source": [
    "# To przeliczy 200 minut na godziny, dzieląc przez 60\n",
    "minuty = 200\n",
    "godziny = minuty / 60\n",
    "godziny"
   ]
  },
  {
   "cell_type": "code",
   "execution_count": null,
   "id": "903a8dbe-a1e3-49c7-a0ce-eb5d216b7e96",
   "metadata": {},
   "outputs": [],
   "source": []
  },
  {
   "cell_type": "markdown",
   "id": "91997680-5a40-4700-8de0-16d70f5c1818",
   "metadata": {},
   "source": [
    "## Autor \n",
    "Łukasz"
   ]
  },
  {
   "cell_type": "code",
   "execution_count": null,
   "id": "64fab2fd-78f5-4ed7-a7f2-3a6ce1aa2edd",
   "metadata": {},
   "outputs": [],
   "source": []
  }
 ],
 "metadata": {
  "kernelspec": {
   "display_name": "Python 3 (ipykernel)",
   "language": "python",
   "name": "python3"
  },
  "language_info": {
   "codemirror_mode": {
    "name": "ipython",
    "version": 3
   },
   "file_extension": ".py",
   "mimetype": "text/x-python",
   "name": "python",
   "nbconvert_exporter": "python",
   "pygments_lexer": "ipython3",
   "version": "3.12.8"
  }
 },
 "nbformat": 4,
 "nbformat_minor": 5
}
